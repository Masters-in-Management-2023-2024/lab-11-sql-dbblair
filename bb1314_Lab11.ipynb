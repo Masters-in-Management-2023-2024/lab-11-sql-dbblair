{
  "cells": [
    {
      "cell_type": "markdown",
      "metadata": {
        "id": "6VkpoTmY-IeZ"
      },
      "source": [
        "# Lab Exercise: SQL Analysis with Polars\n",
        "\n",
        "In this lab, you'll practice SQL queries using Polars' built-in SQL functionality. Complete each exercise by writing the appropriate SQL query."
      ]
    },
    {
      "cell_type": "code",
      "execution_count": 48,
      "metadata": {
        "id": "E2HQj96r-Iea",
        "colab": {
          "base_uri": "https://localhost:8080/"
        },
        "outputId": "8814c80b-2952-466b-e32f-b87d7cc021cb"
      },
      "outputs": [
        {
          "output_type": "stream",
          "name": "stdout",
          "text": [
            "Setup complete! Tables available:\n",
            "shape: (5, 1)\n",
            "┌──────────┐\n",
            "│ name     │\n",
            "│ ---      │\n",
            "│ str      │\n",
            "╞══════════╡\n",
            "│ airlines │\n",
            "│ airports │\n",
            "│ flights  │\n",
            "│ planes   │\n",
            "│ weather  │\n",
            "└──────────┘\n"
          ]
        },
        {
          "output_type": "stream",
          "name": "stderr",
          "text": [
            "/tmp/ipython-input-534664358.py:15: DeprecationWarning: The argument `eager_execution` for `SQLContext.__init__` is deprecated. It has been renamed to `eager`.\n",
            "  ctx = pl.SQLContext(\n"
          ]
        }
      ],
      "source": [
        "# Setup - Run this cell first\n",
        "import polars as pl\n",
        "\n",
        "# Load data\n",
        "airlines = pl.read_csv('https://raw.githubusercontent.com/philhetzel/opan5510-class11/refs/heads/main/data/nyc_airlines.csv')\n",
        "airports = pl.read_csv('https://raw.githubusercontent.com/philhetzel/opan5510-class11/refs/heads/main/data/nyc_airports.csv')\n",
        "flights = pl.read_csv('https://raw.githubusercontent.com/philhetzel/opan5510-class11/refs/heads/main/data/nyc_flights.csv', null_values = 'NA')\n",
        "planes = pl.read_csv('https://raw.githubusercontent.com/philhetzel/opan5510-class11/refs/heads/main/data/nyc_planes.csv', null_values = 'NA')\n",
        "weather = pl.read_csv('https://raw.githubusercontent.com/philhetzel/opan5510-class11/refs/heads/main/data/nyc_weather.csv', null_values = 'NA', infer_schema_length=1000)\n",
        "\n",
        "flights = flights.with_columns(pl.col(\"time_hour\").str.strptime(pl.Datetime))\n",
        "weather = weather.with_columns(pl.col(\"time_hour\").str.strptime(pl.Datetime))\n",
        "\n",
        "# Create SQL context\n",
        "ctx = pl.SQLContext(\n",
        "    airlines=airlines,\n",
        "    airports=airports,\n",
        "    flights=flights,\n",
        "    planes=planes,\n",
        "    weather=weather,\n",
        "    eager_execution=True\n",
        ")\n",
        "\n",
        "print(\"Setup complete! Tables available:\")\n",
        "print(ctx.execute(\"SHOW TABLES\"))"
      ]
    },
    {
      "cell_type": "markdown",
      "metadata": {
        "id": "ZYYaRZ5U-Iea"
      },
      "source": [
        "## Exercise 1: Basic Queries\n",
        "\n",
        "### 1.1 Find all unique carriers in the airlines table"
      ]
    },
    {
      "cell_type": "code",
      "execution_count": 49,
      "metadata": {
        "id": "0JHhCcYN-Iea",
        "colab": {
          "base_uri": "https://localhost:8080/"
        },
        "outputId": "d2f284e6-9bd2-431b-9b14-b0418f3d0487"
      },
      "outputs": [
        {
          "output_type": "stream",
          "name": "stdout",
          "text": [
            "shape: (16, 2)\n",
            "┌─────────┬────────────────────────┐\n",
            "│ carrier ┆ name                   │\n",
            "│ ---     ┆ ---                    │\n",
            "│ str     ┆ str                    │\n",
            "╞═════════╪════════════════════════╡\n",
            "│ 9E      ┆ Endeavor Air Inc.      │\n",
            "│ AA      ┆ American Airlines Inc. │\n",
            "│ AS      ┆ Alaska Airlines Inc.   │\n",
            "│ B6      ┆ JetBlue Airways        │\n",
            "│ DL      ┆ Delta Air Lines Inc.   │\n",
            "│ …       ┆ …                      │\n",
            "│ UA      ┆ United Air Lines Inc.  │\n",
            "│ US      ┆ US Airways Inc.        │\n",
            "│ VX      ┆ Virgin America         │\n",
            "│ WN      ┆ Southwest Airlines Co. │\n",
            "│ YV      ┆ Mesa Airlines Inc.     │\n",
            "└─────────┴────────────────────────┘\n"
          ]
        }
      ],
      "source": [
        "# Write your SQL query here\n",
        "result = ctx.execute(\"\"\"\n",
        "  SELECT DISTINCT carrier, name\n",
        "  FROM airlines\n",
        "  ORDER BY carrier\n",
        "\"\"\")\n",
        "\n",
        "print(result)"
      ]
    },
    {
      "cell_type": "markdown",
      "metadata": {
        "id": "t4bJzTR_-Iea"
      },
      "source": [
        "### 1.2 Find the top 10 destinations by number of flights"
      ]
    },
    {
      "cell_type": "code",
      "execution_count": 50,
      "metadata": {
        "id": "wa8iiuE8-Iea",
        "colab": {
          "base_uri": "https://localhost:8080/"
        },
        "outputId": "2f1ba84b-6156-4dc9-dd50-d26f9837e62c"
      },
      "outputs": [
        {
          "output_type": "stream",
          "name": "stdout",
          "text": [
            "shape: (10, 3)\n",
            "┌──────┬─────────────────────────────────┬─────────────┐\n",
            "│ dest ┆ destination_name                ┆ num_flights │\n",
            "│ ---  ┆ ---                             ┆ ---         │\n",
            "│ str  ┆ str                             ┆ u32         │\n",
            "╞══════╪═════════════════════════════════╪═════════════╡\n",
            "│ ORD  ┆ Chicago Ohare Intl              ┆ 17283       │\n",
            "│ ATL  ┆ Hartsfield Jackson Atlanta Int… ┆ 17215       │\n",
            "│ LAX  ┆ Los Angeles Intl                ┆ 16174       │\n",
            "│ BOS  ┆ General Edward Lawrence Logan … ┆ 15508       │\n",
            "│ MCO  ┆ Orlando Intl                    ┆ 14082       │\n",
            "│ CLT  ┆ Charlotte Douglas Intl          ┆ 14064       │\n",
            "│ SFO  ┆ San Francisco Intl              ┆ 13331       │\n",
            "│ FLL  ┆ Fort Lauderdale Hollywood Intl  ┆ 12055       │\n",
            "│ MIA  ┆ Miami Intl                      ┆ 11728       │\n",
            "│ DCA  ┆ Ronald Reagan Washington Natl   ┆ 9705        │\n",
            "└──────┴─────────────────────────────────┴─────────────┘\n"
          ]
        }
      ],
      "source": [
        "# Write your SQL query here\n",
        "result = ctx.execute(\"\"\"\n",
        "  SELECT\n",
        "    f.dest,\n",
        "    a.name AS destination_name,\n",
        "    COUNT(*) AS num_flights\n",
        "  FROM flights AS f\n",
        "  LEFT JOIN airports AS a\n",
        "    ON f.dest = a.faa\n",
        "  GROUP BY f.dest, a.name\n",
        "  ORDER BY num_flights DESC\n",
        "  LIMIT 10\n",
        "\"\"\")\n",
        "\n",
        "print(result)"
      ]
    },
    {
      "cell_type": "markdown",
      "metadata": {
        "id": "oUTxHMM3-Iea"
      },
      "source": [
        "### 1.3 Find all flights that departed more than 2 hours late (120 minutes)"
      ]
    },
    {
      "cell_type": "code",
      "execution_count": 51,
      "metadata": {
        "id": "s6NHrPMZ-Iea",
        "colab": {
          "base_uri": "https://localhost:8080/"
        },
        "outputId": "7ba174ff-2bc6-4b70-c1ba-40760f6b6e1c"
      },
      "outputs": [
        {
          "output_type": "stream",
          "name": "stdout",
          "text": [
            "shape: (9_723, 9)\n",
            "┌──────┬───────┬─────┬─────────┬───┬────────┬──────┬──────────┬───────────┐\n",
            "│ year ┆ month ┆ day ┆ carrier ┆ … ┆ origin ┆ dest ┆ dep_time ┆ dep_delay │\n",
            "│ ---  ┆ ---   ┆ --- ┆ ---     ┆   ┆ ---    ┆ ---  ┆ ---      ┆ ---       │\n",
            "│ i64  ┆ i64   ┆ i64 ┆ str     ┆   ┆ str    ┆ str  ┆ i64      ┆ i64       │\n",
            "╞══════╪═══════╪═════╪═════════╪═══╪════════╪══════╪══════════╪═══════════╡\n",
            "│ 2013 ┆ 1     ┆ 9   ┆ HA      ┆ … ┆ JFK    ┆ HNL  ┆ 641      ┆ 1301      │\n",
            "│ 2013 ┆ 6     ┆ 15  ┆ MQ      ┆ … ┆ JFK    ┆ CMH  ┆ 1432     ┆ 1137      │\n",
            "│ 2013 ┆ 1     ┆ 10  ┆ MQ      ┆ … ┆ EWR    ┆ ORD  ┆ 1121     ┆ 1126      │\n",
            "│ 2013 ┆ 9     ┆ 20  ┆ AA      ┆ … ┆ JFK    ┆ SFO  ┆ 1139     ┆ 1014      │\n",
            "│ 2013 ┆ 7     ┆ 22  ┆ MQ      ┆ … ┆ JFK    ┆ CVG  ┆ 845      ┆ 1005      │\n",
            "│ …    ┆ …     ┆ …   ┆ …       ┆ … ┆ …      ┆ …    ┆ …        ┆ …         │\n",
            "│ 2013 ┆ 9     ┆ 2   ┆ B6      ┆ … ┆ JFK    ┆ SJU  ┆ 2302     ┆ 121       │\n",
            "│ 2013 ┆ 9     ┆ 11  ┆ EV      ┆ … ┆ EWR    ┆ SAV  ┆ 1850     ┆ 121       │\n",
            "│ 2013 ┆ 9     ┆ 12  ┆ AA      ┆ … ┆ LGA    ┆ MIA  ┆ 1700     ┆ 121       │\n",
            "│ 2013 ┆ 9     ┆ 23  ┆ UA      ┆ … ┆ EWR    ┆ SFO  ┆ 2251     ┆ 121       │\n",
            "│ 2013 ┆ 9     ┆ 26  ┆ EV      ┆ … ┆ EWR    ┆ PWM  ┆ 2330     ┆ 121       │\n",
            "└──────┴───────┴─────┴─────────┴───┴────────┴──────┴──────────┴───────────┘\n"
          ]
        }
      ],
      "source": [
        "# Write your SQL query here\n",
        "result = ctx.execute(\"\"\"\n",
        "  SELECT\n",
        "    year, month, day, carrier, flight, origin, dest, dep_time, dep_delay\n",
        "  FROM flights\n",
        "  WHERE dep_delay > 120\n",
        "  ORDER BY dep_delay DESC\n",
        "\"\"\")\n",
        "\n",
        "print(result)"
      ]
    },
    {
      "cell_type": "markdown",
      "metadata": {
        "id": "ptJIX4u3-Iea"
      },
      "source": [
        "## Exercise 2: Aggregation\n",
        "\n",
        "### 2.1 Calculate the average departure delay for each origin airport"
      ]
    },
    {
      "cell_type": "code",
      "execution_count": 52,
      "metadata": {
        "id": "MTLM2miI-Iea",
        "colab": {
          "base_uri": "https://localhost:8080/"
        },
        "outputId": "5ea66126-67a0-4580-cb4a-3d49ec3e3e0c"
      },
      "outputs": [
        {
          "output_type": "stream",
          "name": "stdout",
          "text": [
            "shape: (3, 4)\n",
            "┌────────┬─────────────────────┬───────────────┬─────────────┐\n",
            "│ origin ┆ airport_name        ┆ avg_dep_delay ┆ num_flights │\n",
            "│ ---    ┆ ---                 ┆ ---           ┆ ---         │\n",
            "│ str    ┆ str                 ┆ f64           ┆ u32         │\n",
            "╞════════╪═════════════════════╪═══════════════╪═════════════╡\n",
            "│ EWR    ┆ Newark Liberty Intl ┆ 15.11         ┆ 120835      │\n",
            "│ JFK    ┆ John F Kennedy Intl ┆ 12.11         ┆ 111279      │\n",
            "│ LGA    ┆ La Guardia          ┆ 10.35         ┆ 104662      │\n",
            "└────────┴─────────────────────┴───────────────┴─────────────┘\n"
          ]
        }
      ],
      "source": [
        "# Write your SQL query here\n",
        "result = ctx.execute(\"\"\"\n",
        "  SELECT\n",
        "    f.origin,\n",
        "    a.name AS airport_name,\n",
        "    ROUND(AVG(f.dep_delay), 2) AS avg_dep_delay,\n",
        "    COUNT(*) AS num_flights\n",
        "  FROM flights AS f\n",
        "  LEFT JOIN airports AS a\n",
        "    ON f.origin = a.faa\n",
        "  GROUP BY f.origin, a.name\n",
        "  ORDER BY avg_dep_delay DESC\n",
        "\"\"\")\n",
        "\n",
        "print(result)"
      ]
    },
    {
      "cell_type": "markdown",
      "metadata": {
        "id": "MAIHMh1V-Iea"
      },
      "source": [
        "### 2.2 Find the busiest month of the year\n",
        "\n",
        "Count the number of flights per month and find which month has the most flights."
      ]
    },
    {
      "cell_type": "code",
      "execution_count": 53,
      "metadata": {
        "id": "DKGIC-7g-Ieb",
        "colab": {
          "base_uri": "https://localhost:8080/"
        },
        "outputId": "fc0039d6-4a35-4ef0-bfdf-594597d78212"
      },
      "outputs": [
        {
          "output_type": "stream",
          "name": "stdout",
          "text": [
            "shape: (5, 19)\n",
            "┌──────┬───────┬─────┬──────────┬───┬──────────┬──────┬────────┬─────────────────────────┐\n",
            "│ year ┆ month ┆ day ┆ dep_time ┆ … ┆ distance ┆ hour ┆ minute ┆ time_hour               │\n",
            "│ ---  ┆ ---   ┆ --- ┆ ---      ┆   ┆ ---      ┆ ---  ┆ ---    ┆ ---                     │\n",
            "│ i64  ┆ i64   ┆ i64 ┆ i64      ┆   ┆ i64      ┆ i64  ┆ i64    ┆ datetime[μs, UTC]       │\n",
            "╞══════╪═══════╪═════╪══════════╪═══╪══════════╪══════╪════════╪═════════════════════════╡\n",
            "│ 2013 ┆ 1     ┆ 1   ┆ 517      ┆ … ┆ 1400     ┆ 5    ┆ 15     ┆ 2013-01-01 10:00:00 UTC │\n",
            "│ 2013 ┆ 1     ┆ 1   ┆ 533      ┆ … ┆ 1416     ┆ 5    ┆ 29     ┆ 2013-01-01 10:00:00 UTC │\n",
            "│ 2013 ┆ 1     ┆ 1   ┆ 542      ┆ … ┆ 1089     ┆ 5    ┆ 40     ┆ 2013-01-01 10:00:00 UTC │\n",
            "│ 2013 ┆ 1     ┆ 1   ┆ 544      ┆ … ┆ 1576     ┆ 5    ┆ 45     ┆ 2013-01-01 10:00:00 UTC │\n",
            "│ 2013 ┆ 1     ┆ 1   ┆ 554      ┆ … ┆ 762      ┆ 6    ┆ 0      ┆ 2013-01-01 11:00:00 UTC │\n",
            "└──────┴───────┴─────┴──────────┴───┴──────────┴──────┴────────┴─────────────────────────┘\n",
            "shape: (1, 2)\n",
            "┌───────┬─────────────┐\n",
            "│ month ┆ num_flights │\n",
            "│ ---   ┆ ---         │\n",
            "│ i64   ┆ u32         │\n",
            "╞═══════╪═════════════╡\n",
            "│ 7     ┆ 29425       │\n",
            "└───────┴─────────────┘\n"
          ]
        }
      ],
      "source": [
        "# First, let's check what columns are available\n",
        "result = ctx.execute(\"\"\"\n",
        "    SELECT *\n",
        "    FROM flights\n",
        "    LIMIT 5\n",
        "\"\"\")\n",
        "print(result)\n",
        "\n",
        "# Now write your query to find busiest month\n",
        "result = ctx.execute(\"\"\"\n",
        "  SELECT\n",
        "    month,\n",
        "    COUNT(*) AS num_flights\n",
        "  FROM flights\n",
        "  GROUP BY month\n",
        "  ORDER BY num_flights DESC\n",
        "  LIMIT 1\n",
        "\"\"\")\n",
        "\n",
        "print(result)"
      ]
    },
    {
      "cell_type": "markdown",
      "metadata": {
        "id": "OSpBsQRO-Ieb"
      },
      "source": [
        "### 2.3 Calculate the on-time performance rate for each carrier\n",
        "\n",
        "Consider a flight on-time if the departure delay is <= 15 minutes."
      ]
    },
    {
      "cell_type": "code",
      "execution_count": 54,
      "metadata": {
        "id": "QJtQi2Ah-Ieb",
        "colab": {
          "base_uri": "https://localhost:8080/"
        },
        "outputId": "91e37a59-0d39-4644-a52c-10f321d60c96"
      },
      "outputs": [
        {
          "output_type": "stream",
          "name": "stdout",
          "text": [
            "shape: (16, 4)\n",
            "┌─────────┬─────────────────────────────┬─────────────┬─────────────┐\n",
            "│ carrier ┆ airline                     ┆ on_time_pct ┆ num_flights │\n",
            "│ ---     ┆ ---                         ┆ ---         ┆ ---         │\n",
            "│ str     ┆ str                         ┆ f64         ┆ u32         │\n",
            "╞═════════╪═════════════════════════════╪═════════════╪═════════════╡\n",
            "│ HA      ┆ Hawaiian Airlines Inc.      ┆ 92.98       ┆ 342         │\n",
            "│ AS      ┆ Alaska Airlines Inc.        ┆ 86.55       ┆ 714         │\n",
            "│ US      ┆ US Airways Inc.             ┆ 84.99       ┆ 20536       │\n",
            "│ DL      ┆ Delta Air Lines Inc.        ┆ 83.07       ┆ 48110       │\n",
            "│ AA      ┆ American Airlines Inc.      ┆ 82.44       ┆ 32729       │\n",
            "│ …       ┆ …                           ┆ …           ┆ …           │\n",
            "│ FL      ┆ AirTran Airways Corporation ┆ 71.69       ┆ 3260        │\n",
            "│ F9      ┆ Frontier Airlines Inc.      ┆ 71.53       ┆ 685         │\n",
            "│ 9E      ┆ Endeavor Air Inc.           ┆ 70.12       ┆ 18460       │\n",
            "│ EV      ┆ ExpressJet Airlines Inc.    ┆ 65.92       ┆ 54173       │\n",
            "│ YV      ┆ Mesa Airlines Inc.          ┆ 64.73       ┆ 601         │\n",
            "└─────────┴─────────────────────────────┴─────────────┴─────────────┘\n"
          ]
        }
      ],
      "source": [
        "# Write your SQL query here\n",
        "result = ctx.execute(\"\"\"\n",
        "  SELECT\n",
        "    f.carrier,\n",
        "    a.name AS airline,\n",
        "    ROUND(AVG(CASE WHEN f.dep_delay <= 15 THEN 1.0 ELSE 0.0 END) * 100, 2) AS on_time_pct,\n",
        "    COUNT(*) AS num_flights\n",
        "  FROM flights AS f\n",
        "  JOIN airlines AS a\n",
        "    ON f.carrier = a.carrier\n",
        "  GROUP BY f.carrier, a.name\n",
        "  ORDER BY on_time_pct DESC\n",
        "\"\"\")\n",
        "\n",
        "print(result)"
      ]
    },
    {
      "cell_type": "markdown",
      "metadata": {
        "id": "yPc5ai6j-Ieb"
      },
      "source": [
        "## Exercise 3: Joins\n",
        "\n",
        "### 3.1 List all flights with their airline names (not just carrier codes)\n",
        "\n",
        "Show the first 20 flights with carrier code, airline name, flight number, origin, and destination."
      ]
    },
    {
      "cell_type": "code",
      "execution_count": 55,
      "metadata": {
        "id": "ZcYrybly-Ieb",
        "colab": {
          "base_uri": "https://localhost:8080/"
        },
        "outputId": "831d794f-9812-47d6-8141-cf25962f314e"
      },
      "outputs": [
        {
          "output_type": "stream",
          "name": "stdout",
          "text": [
            "shape: (20, 5)\n",
            "┌─────────┬────────────────────────┬────────┬────────┬──────┐\n",
            "│ carrier ┆ airline                ┆ flight ┆ origin ┆ dest │\n",
            "│ ---     ┆ ---                    ┆ ---    ┆ ---    ┆ ---  │\n",
            "│ str     ┆ str                    ┆ i64    ┆ str    ┆ str  │\n",
            "╞═════════╪════════════════════════╪════════╪════════╪══════╡\n",
            "│ UA      ┆ United Air Lines Inc.  ┆ 1545   ┆ EWR    ┆ IAH  │\n",
            "│ UA      ┆ United Air Lines Inc.  ┆ 1714   ┆ LGA    ┆ IAH  │\n",
            "│ AA      ┆ American Airlines Inc. ┆ 1141   ┆ JFK    ┆ MIA  │\n",
            "│ B6      ┆ JetBlue Airways        ┆ 725    ┆ JFK    ┆ BQN  │\n",
            "│ DL      ┆ Delta Air Lines Inc.   ┆ 461    ┆ LGA    ┆ ATL  │\n",
            "│ …       ┆ …                      ┆ …      ┆ …      ┆ …    │\n",
            "│ B6      ┆ JetBlue Airways        ┆ 1806   ┆ JFK    ┆ BOS  │\n",
            "│ UA      ┆ United Air Lines Inc.  ┆ 1187   ┆ EWR    ┆ LAS  │\n",
            "│ B6      ┆ JetBlue Airways        ┆ 371    ┆ LGA    ┆ FLL  │\n",
            "│ MQ      ┆ Envoy Air              ┆ 4650   ┆ LGA    ┆ ATL  │\n",
            "│ B6      ┆ JetBlue Airways        ┆ 343    ┆ EWR    ┆ PBI  │\n",
            "└─────────┴────────────────────────┴────────┴────────┴──────┘\n"
          ]
        }
      ],
      "source": [
        "# Write your SQL query here\n",
        "result = ctx.execute(\"\"\"\n",
        "  SELECT\n",
        "    f.carrier,\n",
        "    a.name AS airline,\n",
        "    f.flight,\n",
        "    f.origin,\n",
        "    f.dest\n",
        "  FROM flights AS f\n",
        "  JOIN airlines AS a\n",
        "    ON f.carrier = a.carrier\n",
        "  ORDER BY f.year, f.month, f.day, f.dep_time\n",
        "  LIMIT 20\n",
        "\"\"\")\n",
        "\n",
        "print(result)"
      ]
    },
    {
      "cell_type": "markdown",
      "metadata": {
        "id": "Gmsdop8h-Ieb"
      },
      "source": [
        "### 3.2 Find the average age of planes for each carrier\n",
        "\n",
        "Hint: The planes table has a `year` column for manufacture year. Calculate age based on 2013."
      ]
    },
    {
      "cell_type": "code",
      "execution_count": 56,
      "metadata": {
        "id": "xQMJG7uF-Ieb",
        "colab": {
          "base_uri": "https://localhost:8080/"
        },
        "outputId": "30c74acf-73f0-4728-8624-526d1b9e40c9"
      },
      "outputs": [
        {
          "output_type": "stream",
          "name": "stdout",
          "text": [
            "shape: (16, 4)\n",
            "┌─────────┬────────────────────────┬───────────────┬──────────────┐\n",
            "│ carrier ┆ airline                ┆ avg_plane_age ┆ num_aircraft │\n",
            "│ ---     ┆ ---                    ┆ ---           ┆ ---          │\n",
            "│ str     ┆ str                    ┆ f64           ┆ u32          │\n",
            "╞═════════╪════════════════════════╪═══════════════╪══════════════╡\n",
            "│ MQ      ┆ Envoy Air              ┆ 35.5          ┆ 4            │\n",
            "│ AA      ┆ American Airlines Inc. ┆ 25.4          ┆ 164          │\n",
            "│ DL      ┆ Delta Air Lines Inc.   ┆ 17.67         ┆ 609          │\n",
            "│ UA      ┆ United Air Lines Inc.  ┆ 13.05         ┆ 589          │\n",
            "│ WN      ┆ Southwest Airlines Co. ┆ 11.01         ┆ 569          │\n",
            "│ …       ┆ …                      ┆ …             ┆ …            │\n",
            "│ B6      ┆ JetBlue Airways        ┆ 6.5           ┆ 187          │\n",
            "│ AS      ┆ Alaska Airlines Inc.   ┆ 5.16          ┆ 83           │\n",
            "│ F9      ┆ Frontier Airlines Inc. ┆ 5.0           ┆ 23           │\n",
            "│ VX      ┆ Virgin America         ┆ 4.29          ┆ 52           │\n",
            "│ HA      ┆ Hawaiian Airlines Inc. ┆ 1.23          ┆ 13           │\n",
            "└─────────┴────────────────────────┴───────────────┴──────────────┘\n"
          ]
        }
      ],
      "source": [
        "# Write your SQL query here\n",
        "result = ctx.execute(\"\"\"\n",
        "    WITH fleet AS (\n",
        "    SELECT DISTINCT\n",
        "      f.carrier,\n",
        "      f.tailnum,\n",
        "      p.year\n",
        "    FROM flights AS f\n",
        "    JOIN planes  AS p\n",
        "      ON f.tailnum = p.tailnum\n",
        "    WHERE p.year IS NOT NULL\n",
        "  )\n",
        "  SELECT\n",
        "    fleet.carrier,\n",
        "    a.name AS airline,\n",
        "    ROUND(AVG(2013 - fleet.year), 2) AS avg_plane_age,\n",
        "    COUNT(*) AS num_aircraft\n",
        "  FROM fleet\n",
        "  JOIN airlines AS a\n",
        "    ON fleet.carrier = a.carrier\n",
        "  GROUP BY fleet.carrier, a.name\n",
        "  ORDER BY avg_plane_age DESC\n",
        "\"\"\")\n",
        "\n",
        "print(result)"
      ]
    },
    {
      "cell_type": "markdown",
      "metadata": {
        "id": "vb3XtrEJ-Ieb"
      },
      "source": [
        "### 3.3 Find flights that experienced both departure delays and bad weather\n",
        "\n",
        "Join flights with weather data and find flights where departure delay > 30 minutes and either wind_speed > 20 or precip > 0.1"
      ]
    },
    {
      "cell_type": "code",
      "execution_count": 57,
      "metadata": {
        "id": "_6GCZUS_-Ieb",
        "colab": {
          "base_uri": "https://localhost:8080/"
        },
        "outputId": "68f50767-7450-4274-ccdc-248f8aebe473"
      },
      "outputs": [
        {
          "output_type": "stream",
          "name": "stdout",
          "text": [
            "shape: (5, 15)\n",
            "┌────────┬──────┬───────┬─────┬───┬────────┬──────────┬───────┬─────────────────────────┐\n",
            "│ origin ┆ year ┆ month ┆ day ┆ … ┆ precip ┆ pressure ┆ visib ┆ time_hour               │\n",
            "│ ---    ┆ ---  ┆ ---   ┆ --- ┆   ┆ ---    ┆ ---      ┆ ---   ┆ ---                     │\n",
            "│ str    ┆ i64  ┆ i64   ┆ i64 ┆   ┆ f64    ┆ f64      ┆ f64   ┆ datetime[μs, UTC]       │\n",
            "╞════════╪══════╪═══════╪═════╪═══╪════════╪══════════╪═══════╪═════════════════════════╡\n",
            "│ EWR    ┆ 2013 ┆ 1     ┆ 1   ┆ … ┆ 0.0    ┆ 1012.0   ┆ 10.0  ┆ 2013-01-01 06:00:00 UTC │\n",
            "│ EWR    ┆ 2013 ┆ 1     ┆ 1   ┆ … ┆ 0.0    ┆ 1012.3   ┆ 10.0  ┆ 2013-01-01 07:00:00 UTC │\n",
            "│ EWR    ┆ 2013 ┆ 1     ┆ 1   ┆ … ┆ 0.0    ┆ 1012.5   ┆ 10.0  ┆ 2013-01-01 08:00:00 UTC │\n",
            "│ EWR    ┆ 2013 ┆ 1     ┆ 1   ┆ … ┆ 0.0    ┆ 1012.2   ┆ 10.0  ┆ 2013-01-01 09:00:00 UTC │\n",
            "│ EWR    ┆ 2013 ┆ 1     ┆ 1   ┆ … ┆ 0.0    ┆ 1011.9   ┆ 10.0  ┆ 2013-01-01 10:00:00 UTC │\n",
            "└────────┴──────┴───────┴─────┴───┴────────┴──────────┴───────┴─────────────────────────┘\n",
            "shape: (50, 11)\n",
            "┌──────┬───────┬─────┬──────────┬───┬────────┬───────────┬────────────┬────────┐\n",
            "│ year ┆ month ┆ day ┆ dep_time ┆ … ┆ flight ┆ dep_delay ┆ wind_speed ┆ precip │\n",
            "│ ---  ┆ ---   ┆ --- ┆ ---      ┆   ┆ ---    ┆ ---       ┆ ---        ┆ ---    │\n",
            "│ i64  ┆ i64   ┆ i64 ┆ i64      ┆   ┆ i64    ┆ i64       ┆ f64        ┆ f64    │\n",
            "╞══════╪═══════╪═════╪══════════╪═══╪════════╪═══════════╪════════════╪════════╡\n",
            "│ 2013 ┆ 4     ┆ 10  ┆ 1100     ┆ … ┆ 2391   ┆ 960       ┆ 31.07106   ┆ 0.11   │\n",
            "│ 2013 ┆ 12    ┆ 14  ┆ 830      ┆ … ┆ 2391   ┆ 825       ┆ 20.71404   ┆ 0.01   │\n",
            "│ 2013 ┆ 4     ┆ 19  ┆ 617      ┆ … ┆ 257    ┆ 797       ┆ 25.31716   ┆ 0.0    │\n",
            "│ 2013 ┆ 4     ┆ 19  ┆ 606      ┆ … ┆ 1901   ┆ 761       ┆ 25.31716   ┆ 0.0    │\n",
            "│ 2013 ┆ 4     ┆ 10  ┆ 604      ┆ … ┆ 1485   ┆ 639       ┆ 33.37262   ┆ 0.14   │\n",
            "│ …    ┆ …     ┆ …   ┆ …        ┆ … ┆ …      ┆ …         ┆ …          ┆ …      │\n",
            "│ 2013 ┆ 9     ┆ 12  ┆ 1923     ┆ … ┆ 686    ┆ 328       ┆ 12.65858   ┆ 0.15   │\n",
            "│ 2013 ┆ 4     ┆ 10  ┆ 25       ┆ … ┆ 5038   ┆ 325       ┆ 33.37262   ┆ 0.14   │\n",
            "│ 2013 ┆ 3     ┆ 8   ┆ 1523     ┆ … ┆ 4187   ┆ 322       ┆ 14.96014   ┆ 0.19   │\n",
            "│ 2013 ┆ 7     ┆ 1   ┆ 1621     ┆ … ┆ 3297   ┆ 321       ┆ 9.20624    ┆ 0.22   │\n",
            "│ 2013 ┆ 3     ┆ 8   ┆ 1449     ┆ … ┆ 4636   ┆ 320       ┆ 14.96014   ┆ 0.11   │\n",
            "└──────┴───────┴─────┴──────────┴───┴────────┴───────────┴────────────┴────────┘\n"
          ]
        }
      ],
      "source": [
        "# First, explore the weather table structure\n",
        "result = ctx.execute(\"\"\"\n",
        "    SELECT *\n",
        "    FROM weather\n",
        "    LIMIT 5\n",
        "\"\"\")\n",
        "print(result)\n",
        "\n",
        "# Now write your join query\n",
        "result = ctx.execute(\"\"\"\n",
        "  SELECT\n",
        "    f.year, f.month, f.day, f.dep_time,\n",
        "    f.origin, f.dest, f.carrier, f.flight,\n",
        "    f.dep_delay,\n",
        "    w.wind_speed, w.precip\n",
        "  FROM flights AS f\n",
        "  JOIN weather AS w\n",
        "    ON f.origin = w.origin\n",
        "  AND f.time_hour = w.time_hour\n",
        "  WHERE f.dep_delay > 30\n",
        "    AND (w.wind_speed > 20 OR w.precip > 0.1)\n",
        "  ORDER BY f.dep_delay DESC\n",
        "  LIMIT 50\n",
        "\"\"\")\n",
        "\n",
        "print(result)"
      ]
    },
    {
      "cell_type": "markdown",
      "metadata": {
        "id": "Q9g1JawB-Ieb"
      },
      "source": [
        "## Exercise 4: Advanced Queries\n",
        "\n",
        "### 4.1 Find the most popular aircraft types (by number of flights)\n",
        "\n",
        "Join flights with planes to get manufacturer and model information. Show top 10."
      ]
    },
    {
      "cell_type": "code",
      "execution_count": 58,
      "metadata": {
        "id": "g7vOXaEH-Ieb",
        "colab": {
          "base_uri": "https://localhost:8080/"
        },
        "outputId": "cc4f58d7-3224-4635-f398-220a609a41b3"
      },
      "outputs": [
        {
          "output_type": "stream",
          "name": "stdout",
          "text": [
            "shape: (10, 3)\n",
            "┌───────────────────────────────┬─────────────────┬─────────────┐\n",
            "│ manufacturer                  ┆ model           ┆ num_flights │\n",
            "│ ---                           ┆ ---             ┆ ---         │\n",
            "│ str                           ┆ str             ┆ u32         │\n",
            "╞═══════════════════════════════╪═════════════════╪═════════════╡\n",
            "│ AIRBUS                        ┆ A320-232        ┆ 31278       │\n",
            "│ EMBRAER                       ┆ EMB-145LR       ┆ 28027       │\n",
            "│ EMBRAER                       ┆ ERJ 190-100 IGW ┆ 23716       │\n",
            "│ AIRBUS INDUSTRIE              ┆ A320-232        ┆ 14553       │\n",
            "│ EMBRAER                       ┆ EMB-145XR       ┆ 14051       │\n",
            "│ BOEING                        ┆ 737-824         ┆ 13809       │\n",
            "│ BOMBARDIER INC                ┆ CL-600-2D24     ┆ 11807       │\n",
            "│ BOEING                        ┆ 737-7H4         ┆ 10389       │\n",
            "│ BOEING                        ┆ 757-222         ┆ 9150        │\n",
            "│ MCDONNELL DOUGLAS AIRCRAFT CO ┆ MD-88           ┆ 8932        │\n",
            "└───────────────────────────────┴─────────────────┴─────────────┘\n"
          ]
        }
      ],
      "source": [
        "# Write your SQL query here\n",
        "result = ctx.execute(\"\"\"\n",
        "  SELECT\n",
        "    p.manufacturer,\n",
        "    p.model,\n",
        "    COUNT(*) AS num_flights\n",
        "  FROM flights AS f\n",
        "  JOIN planes  AS p\n",
        "    ON f.tailnum = p.tailnum\n",
        "  GROUP BY p.manufacturer, p.model\n",
        "  ORDER BY num_flights DESC\n",
        "  LIMIT 10\n",
        "\"\"\")\n",
        "\n",
        "print(result)"
      ]
    },
    {
      "cell_type": "markdown",
      "metadata": {
        "id": "ZDzPTUNS-Ieb"
      },
      "source": [
        "### 4.2 Analyze route performance\n",
        "\n",
        "Find the top 10 routes (origin-destination pairs) with:\n",
        "- Total number of flights\n",
        "- Average departure delay\n",
        "- Percentage of flights delayed more than 30 minutes\n",
        "\n",
        "Include airport names, not just codes."
      ]
    },
    {
      "cell_type": "code",
      "execution_count": 59,
      "metadata": {
        "id": "Hdhodynh-Ieb",
        "colab": {
          "base_uri": "https://localhost:8080/"
        },
        "outputId": "c8306ef7-818a-402a-fba9-01331ffadbcf"
      },
      "outputs": [
        {
          "output_type": "stream",
          "name": "stdout",
          "text": [
            "shape: (10, 7)\n",
            "┌────────┬─────────────────┬──────┬─────────────────┬─────────────┬───────────────┬────────────────┐\n",
            "│ origin ┆ origin_name     ┆ dest ┆ dest_name       ┆ num_flights ┆ avg_dep_delay ┆ pct_delayed_gt │\n",
            "│ ---    ┆ ---             ┆ ---  ┆ ---             ┆ ---         ┆ ---           ┆ 30             │\n",
            "│ str    ┆ str             ┆ str  ┆ str             ┆ u32         ┆ f64           ┆ ---            │\n",
            "│        ┆                 ┆      ┆                 ┆             ┆               ┆ f64            │\n",
            "╞════════╪═════════════════╪══════╪═════════════════╪═════════════╪═══════════════╪════════════════╡\n",
            "│ JFK    ┆ John F Kennedy  ┆ LAX  ┆ Los Angeles     ┆ 11262       ┆ 8.52          ┆ 9.83           │\n",
            "│        ┆ Intl            ┆      ┆ Intl            ┆             ┆               ┆                │\n",
            "│ LGA    ┆ La Guardia      ┆ ATL  ┆ Hartsfield      ┆ 10263       ┆ 11.45         ┆ 12.25          │\n",
            "│        ┆                 ┆      ┆ Jackson Atlanta ┆             ┆               ┆                │\n",
            "│        ┆                 ┆      ┆ Int…            ┆             ┆               ┆                │\n",
            "│ LGA    ┆ La Guardia      ┆ ORD  ┆ Chicago Ohare   ┆ 8857        ┆ 10.74         ┆ 13.35          │\n",
            "│        ┆                 ┆      ┆ Intl            ┆             ┆               ┆                │\n",
            "│ JFK    ┆ John F Kennedy  ┆ SFO  ┆ San Francisco   ┆ 8204        ┆ 11.95         ┆ 12.12          │\n",
            "│        ┆ Intl            ┆      ┆ Intl            ┆             ┆               ┆                │\n",
            "│ LGA    ┆ La Guardia      ┆ CLT  ┆ Charlotte       ┆ 6168        ┆ 8.97          ┆ 11.95          │\n",
            "│        ┆                 ┆      ┆ Douglas Intl    ┆             ┆               ┆                │\n",
            "│ EWR    ┆ Newark Liberty  ┆ ORD  ┆ Chicago Ohare   ┆ 6100        ┆ 14.64         ┆ 16.0           │\n",
            "│        ┆ Intl            ┆      ┆ Intl            ┆             ┆               ┆                │\n",
            "│ JFK    ┆ John F Kennedy  ┆ BOS  ┆ General Edward  ┆ 5898        ┆ 11.69         ┆ 13.77          │\n",
            "│        ┆ Intl            ┆      ┆ Lawrence Logan  ┆             ┆               ┆                │\n",
            "│        ┆                 ┆      ┆ …               ┆             ┆               ┆                │\n",
            "│ LGA    ┆ La Guardia      ┆ MIA  ┆ Miami Intl      ┆ 5781        ┆ 7.36          ┆ 9.46           │\n",
            "│ JFK    ┆ John F Kennedy  ┆ MCO  ┆ Orlando Intl    ┆ 5464        ┆ 10.6          ┆ 12.72          │\n",
            "│        ┆ Intl            ┆      ┆                 ┆             ┆               ┆                │\n",
            "│ EWR    ┆ Newark Liberty  ┆ BOS  ┆ General Edward  ┆ 5327        ┆ 12.55         ┆ 14.91          │\n",
            "│        ┆ Intl            ┆      ┆ Lawrence Logan  ┆             ┆               ┆                │\n",
            "│        ┆                 ┆      ┆ …               ┆             ┆               ┆                │\n",
            "└────────┴─────────────────┴──────┴─────────────────┴─────────────┴───────────────┴────────────────┘\n"
          ]
        }
      ],
      "source": [
        "# Write your SQL query here\n",
        "result = ctx.execute(\"\"\"\n",
        "  SELECT\n",
        "    f.origin,\n",
        "    ao.origin_name,\n",
        "    f.dest,\n",
        "    ad.dest_name,\n",
        "    COUNT(*) AS num_flights,\n",
        "    ROUND(AVG(f.dep_delay), 2) AS avg_dep_delay,\n",
        "    ROUND(AVG(CASE WHEN f.dep_delay > 30 THEN 1.0 ELSE 0.0 END) * 100, 2) AS pct_delayed_gt30\n",
        "  FROM flights AS f\n",
        "  JOIN (SELECT faa, name AS origin_name FROM airports) AS ao\n",
        "    ON f.origin = ao.faa\n",
        "  JOIN (SELECT faa, name AS dest_name FROM airports) AS ad\n",
        "    ON f.dest = ad.faa\n",
        "  GROUP BY f.origin, ao.origin_name, f.dest, ad.dest_name\n",
        "  ORDER BY num_flights DESC\n",
        "  LIMIT 10\n",
        "\"\"\")\n",
        "\n",
        "print(result)"
      ]
    },
    {
      "cell_type": "code",
      "execution_count": 60,
      "metadata": {
        "id": "5c3vyiCu-Ieb",
        "colab": {
          "base_uri": "https://localhost:8080/"
        },
        "outputId": "ddfa46e3-9c05-49a9-d8e7-e9b6549e145f"
      },
      "outputs": [
        {
          "output_type": "stream",
          "name": "stdout",
          "text": [
            "shape: (10, 7)\n",
            "┌────────┬─────────────────┬──────┬─────────────────┬─────────────┬───────────────┬────────────────┐\n",
            "│ origin ┆ origin_name     ┆ dest ┆ dest_name       ┆ num_flights ┆ avg_dep_delay ┆ pct_delayed_gt │\n",
            "│ ---    ┆ ---             ┆ ---  ┆ ---             ┆ ---         ┆ ---           ┆ 30             │\n",
            "│ str    ┆ str             ┆ str  ┆ str             ┆ u32         ┆ f64           ┆ ---            │\n",
            "│        ┆                 ┆      ┆                 ┆             ┆               ┆ f64            │\n",
            "╞════════╪═════════════════╪══════╪═════════════════╪═════════════╪═══════════════╪════════════════╡\n",
            "│ LGA    ┆ La Guardia      ┆ SBN  ┆ South Bend Rgnl ┆ 6           ┆ 31.33         ┆ 50.0           │\n",
            "│ EWR    ┆ Newark Liberty  ┆ TYS  ┆ Mc Ghee Tyson   ┆ 323         ┆ 41.82         ┆ 37.46          │\n",
            "│        ┆ Intl            ┆      ┆                 ┆             ┆               ┆                │\n",
            "│ EWR    ┆ Newark Liberty  ┆ TUL  ┆ Tulsa Intl      ┆ 315         ┆ 34.91         ┆ 35.56          │\n",
            "│        ┆ Intl            ┆      ┆                 ┆             ┆               ┆                │\n",
            "│ LGA    ┆ La Guardia      ┆ CAE  ┆ Columbia        ┆ 12          ┆ 29.5          ┆ 33.33          │\n",
            "│        ┆                 ┆      ┆ Metropolitan    ┆             ┆               ┆                │\n",
            "│ EWR    ┆ Newark Liberty  ┆ OKC  ┆ Will Rogers     ┆ 346         ┆ 30.57         ┆ 32.37          │\n",
            "│        ┆ Intl            ┆      ┆ World           ┆             ┆               ┆                │\n",
            "│ EWR    ┆ Newark Liberty  ┆ CAE  ┆ Columbia        ┆ 104         ┆ 36.34         ┆ 31.73          │\n",
            "│        ┆ Intl            ┆      ┆ Metropolitan    ┆             ┆               ┆                │\n",
            "│ LGA    ┆ La Guardia      ┆ BHM  ┆ Birmingham Intl ┆ 296         ┆ 29.78         ┆ 29.73          │\n",
            "│ EWR    ┆ Newark Liberty  ┆ DSM  ┆ Des Moines Intl ┆ 411         ┆ 29.33         ┆ 29.44          │\n",
            "│        ┆ Intl            ┆      ┆                 ┆             ┆               ┆                │\n",
            "│ EWR    ┆ Newark Liberty  ┆ ROC  ┆ Greater         ┆ 513         ┆ 27.86         ┆ 28.65          │\n",
            "│        ┆ Intl            ┆      ┆ Rochester Intl  ┆             ┆               ┆                │\n",
            "│ LGA    ┆ La Guardia      ┆ OMA  ┆ Eppley Afld     ┆ 95          ┆ 27.37         ┆ 28.42          │\n",
            "└────────┴─────────────────┴──────┴─────────────────┴─────────────┴───────────────┴────────────────┘\n"
          ]
        }
      ],
      "source": [
        "# Write your SQL query here\n",
        "result = ctx.execute(\"\"\"\n",
        "  SELECT\n",
        "    f.origin,\n",
        "    ao.origin_name,\n",
        "    f.dest,\n",
        "    ad.dest_name,\n",
        "    COUNT(*) AS num_flights,\n",
        "    ROUND(AVG(f.dep_delay), 2) AS avg_dep_delay,\n",
        "    ROUND(AVG(CASE WHEN f.dep_delay > 30 THEN 1.0 ELSE 0.0 END) * 100, 2) AS pct_delayed_gt30\n",
        "  FROM flights AS f\n",
        "  JOIN (SELECT faa, name AS origin_name FROM airports) AS ao\n",
        "    ON f.origin = ao.faa\n",
        "  JOIN (SELECT faa, name AS dest_name FROM airports) AS ad\n",
        "    ON f.dest = ad.faa\n",
        "  GROUP BY f.origin, ao.origin_name, f.dest, ad.dest_name\n",
        "  HAVING COUNT(*) >= 200\n",
        "  ORDER BY pct_delayed_gt30 DESC\n",
        "  LIMIT 10\n",
        "\"\"\")\n",
        "\n",
        "print(result)"
      ]
    },
    {
      "cell_type": "markdown",
      "metadata": {
        "id": "aREODTwK-Ieb"
      },
      "source": [
        "## Bonus: Compare with Polars\n",
        "\n",
        "### Choose one of the queries above and implement it using Polars\n",
        "\n",
        "This will help you understand the relationship between SQL and Polars operations."
      ]
    },
    {
      "cell_type": "code",
      "execution_count": 61,
      "metadata": {
        "id": "vYS4iVU--Ieb",
        "colab": {
          "base_uri": "https://localhost:8080/"
        },
        "outputId": "4c34c2e5-b7b7-46ec-9e66-e61f2b8022f1"
      },
      "outputs": [
        {
          "output_type": "stream",
          "name": "stdout",
          "text": [
            "SQL Result:\n",
            "shape: (3, 2)\n",
            "┌────────┬───────────┐\n",
            "│ origin ┆ avg_delay │\n",
            "│ ---    ┆ ---       │\n",
            "│ str    ┆ f64       │\n",
            "╞════════╪═══════════╡\n",
            "│ EWR    ┆ 15.107954 │\n",
            "│ JFK    ┆ 12.112159 │\n",
            "│ LGA    ┆ 10.346876 │\n",
            "└────────┴───────────┘\n",
            "\n",
            "Polars Result:\n",
            "shape: (3, 2)\n",
            "┌────────┬───────────┐\n",
            "│ origin ┆ avg_delay │\n",
            "│ ---    ┆ ---       │\n",
            "│ str    ┆ f64       │\n",
            "╞════════╪═══════════╡\n",
            "│ EWR    ┆ 15.107954 │\n",
            "│ JFK    ┆ 12.112159 │\n",
            "│ LGA    ┆ 10.346876 │\n",
            "└────────┴───────────┘\n"
          ]
        }
      ],
      "source": [
        "# Example: Let's implement Exercise 2.1 (average delay by origin) in Polars\n",
        "\n",
        "# SQL version (for reference)\n",
        "sql_result = ctx.execute(\"\"\"\n",
        "    SELECT\n",
        "        origin,\n",
        "        AVG(dep_delay) as avg_delay\n",
        "    FROM flights\n",
        "    WHERE dep_delay IS NOT NULL\n",
        "    GROUP BY origin\n",
        "    ORDER BY avg_delay DESC\n",
        "\"\"\")\n",
        "\n",
        "# Polars version\n",
        "polars_result = (\n",
        "    flights\n",
        "    .filter(pl.col('dep_delay').is_not_null())\n",
        "    .group_by('origin')\n",
        "    .agg(pl.col('dep_delay').mean().alias('avg_delay'))\n",
        "    .sort('avg_delay', descending=True)\n",
        ")\n",
        "\n",
        "print(\"SQL Result:\")\n",
        "print(sql_result)\n",
        "print(\"\\nPolars Result:\")\n",
        "print(polars_result)\n",
        "\n",
        "# Now implement one of your own queries in Polars below:\n",
        "# Your Polars code here"
      ]
    }
  ],
  "metadata": {
    "kernelspec": {
      "display_name": "Python 3",
      "language": "python",
      "name": "python3"
    },
    "language_info": {
      "codemirror_mode": {
        "name": "ipython",
        "version": 3
      },
      "file_extension": ".py",
      "mimetype": "text/x-python",
      "name": "python",
      "nbconvert_exporter": "python",
      "pygments_lexer": "ipython3",
      "version": "3.8.0"
    },
    "colab": {
      "provenance": []
    }
  },
  "nbformat": 4,
  "nbformat_minor": 0
}